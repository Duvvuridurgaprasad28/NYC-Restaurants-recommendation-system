{
 "cells": [
  {
   "cell_type": "markdown",
   "id": "c157f11a-e8f7-4e8f-a556-d1dcc80ac8c6",
   "metadata": {},
   "source": [
    "# **NYC Restaurants**\n"
   ]
  },
  {
   "cell_type": "markdown",
   "id": "a0ab3a36-b420-4f16-9131-881a4e749fb9",
   "metadata": {},
   "source": [
    "### Loading necessaries packages"
   ]
  },
  {
   "cell_type": "code",
   "execution_count": null,
   "id": "3e738fa3-8a8a-49dd-a119-8738d14761ce",
   "metadata": {},
   "outputs": [],
   "source": [
    "# Importing the dataset\n",
    "import numpy as np # linear algebra\n",
    "import pandas as pd # data processing, CSV file I/O (e.g. pd.read_csv)\n",
    "import plotly.express as px\n",
    "from plotly.subplots import make_subplots\n",
    "import plotly.graph_objects as go\n",
    "import seaborn as sns\n",
    "import matplotlib.pyplot as plt\n",
    "import matplotlib\n",
    "%matplotlib inline\n",
    "\n",
    "# Set pandas display options\n",
    "pd.set_option('display.max_columns', None)  # Display all columns\n",
    "pd.set_option('display.max_rows', None)  # Display all rows\n",
    "pd.set_option('display.width', 1000)  # Adjust the width of the display\n",
    "\n",
    "# Configure matplotlib settings\n",
    "plt.rcParams['figure.figsize'] = [10, 6]  # Set default figure size\n",
    "plt.rcParams['axes.grid'] = True  # Enable grid by default\n",
    "\n",
    "matplotlib.rcParams['font.size'] = 14\n",
    "matplotlib.rcParams['figure.figsize'] = (10, 6)\n",
    "matplotlib.rcParams['figure.facecolor'] = '#00000000'\n",
    "# Set seaborn style\n",
    "sns.set(style=\"whitegrid\")\n",
    "\n",
    "# Optional: Set numpy display options\n",
    "np.set_printoptions(threshold=np.inf)  # Display entire numpy arrays"
   ]
  },
  {
   "cell_type": "markdown",
   "id": "784ef9f6-115a-49e0-88e4-87fa91e39c52",
   "metadata": {},
   "source": [
    "**Problem Statement:**\n",
    "\n",
    "The dataset provides information on customer orders from various restaurants, including details like the cost of the order, food preparation time, delivery time, and customer ratings. The objective is to predict a key outcome based on these features, such as:\n",
    "\n",
    "1. **Predicting the total cost of the order** based on factors such as cuisine type, day of the week, food preparation time, and delivery time.\n",
    "2. **Predicting delivery time** given the food preparation time, day of the week, restaurant type, and customer ratings.\n",
    "3. **Predicting customer ratings** based on the order’s characteristics, including cost, food preparation time, delivery time, and the type of restaurant or cuisine.\n",
    "\n",
    "**Goal:**  \n",
    "By understanding the relationships between these features, we aim to create a model that can help optimize restaurant operations, improve delivery times, predict customer satisfaction (ratings), or even estimate total order costs in real-time. This would be particularly useful for decision-making, improving customer experience, and enhancing restaurant efficiency.\n",
    "\n",
    "**Key challenges:**  \n",
    "- Categorical data (restaurant names, cuisine types, and days of the week) needs to be appropriately encoded for use in machine learning models.\n",
    "- Handling missing values, such as \"Not given\" in the ratings column, is essential.\n",
    "- Scaling and normalizing numerical data such as cost, food preparation time, and delivery time are necessary to improve model performance. \n",
    "\n",
    "The model can help predict key business metrics or identify factors that significantly influence customer satisfaction or operational efficiency."
   ]
  },
  {
   "cell_type": "markdown",
   "id": "901f66f7-78b7-460a-8bf7-7775b7662b1d",
   "metadata": {},
   "source": [
    "## **Loading the Dataset**"
   ]
  },
  {
   "cell_type": "code",
   "execution_count": null,
   "id": "76ef9ce5-f227-4c2f-babe-7e2b5585ae83",
   "metadata": {},
   "outputs": [],
   "source": [
    "# Read the dataset from the CSV file\n",
    "df = pd.read_csv(\"food_order.csv\")\n",
    "\n",
    "# Display the first 5 rows of the dataframe to get an overview of the data\n",
    "df.head()"
   ]
  },
  {
   "cell_type": "markdown",
   "id": "302af9ef-8076-46c6-a3f0-41b0bb2ae1e5",
   "metadata": {},
   "source": [
    "**Dataset Description:**\n",
    "\n",
    "The dataset consists of **1898 records** related to customer orders from various restaurants. Each record includes the following attributes:\n",
    "\n",
    "- **order_id**: A unique identifier for each order.\n",
    "- **customer_id**: A unique identifier for the customer who placed the order.\n",
    "- **restaurant_name**: The name of the restaurant where the order was placed.\n",
    "- **cuisine_type**: The type of cuisine offered by the restaurant (e.g., Korean, Japanese, American, Mexican).\n",
    "- **cost_of_the_order**: The total monetary value of the order (float).\n",
    "- **day_of_the_week**: The day on which the order was placed (e.g., Weekend, Weekday).\n",
    "- **rating**: The rating given by the customer, though some ratings are marked as \"Not given.\"\n",
    "- **food_preparation_time**: The time (in minutes) it took to prepare the food.\n",
    "- **delivery_time**: The time (in minutes) it took to deliver the order to the customer.\n",
    "\n",
    "This dataset provides a comprehensive view of customer interactions with various restaurants and includes both numerical and categorical data. The data is clean, with no missing values for the core features, though the **rating** field includes instances where the rating was not provided (\"Not given\"). This dataset can be used for tasks such as predictive modeling, analysis of customer satisfaction, operational optimization, and understanding factors affecting delivery times and costs."
   ]
  },
  {
   "cell_type": "markdown",
   "id": "15f6966a-4aff-4668-8a56-d49da11ca883",
   "metadata": {},
   "source": [
    "## **Exploratory Data Analysis (EDA)**"
   ]
  },
  {
   "cell_type": "code",
   "execution_count": null,
   "id": "c36f777f-d971-4e4f-8576-b4f2846a790d",
   "metadata": {},
   "outputs": [],
   "source": [
    "#total columns in this dataset\n",
    "df.columns"
   ]
  },
  {
   "cell_type": "code",
   "execution_count": null,
   "id": "f225ef70-bd9d-4879-8e78-af240e05e3ed",
   "metadata": {},
   "outputs": [],
   "source": [
    "# Display the shape of the dataframe to understand its dimensions\n",
    "print(\"\\nShape of the dataset (number of rows and columns):\")\n",
    "print(df.shape)"
   ]
  },
  {
   "cell_type": "markdown",
   "id": "714430df-9394-482f-a94a-b10c73dda36b",
   "metadata": {},
   "source": [
    "**There are 1898 rows and 9 columns in this dataset.**"
   ]
  },
  {
   "cell_type": "code",
   "execution_count": null,
   "id": "d9e17c86-fa42-49cf-96d0-2ca129737da7",
   "metadata": {},
   "outputs": [],
   "source": [
    "# To find the duplicate values in the dataset\n",
    "print(f'Number of dublicate rows {df.duplicated().sum()}')"
   ]
  },
  {
   "cell_type": "markdown",
   "id": "c5a84567-29f8-4fc6-b3f2-4fe09c0dfcc7",
   "metadata": {},
   "source": [
    "**Note**: No Duplicate Rows Detected\n",
    "\n",
    "During the data preprocessing stage, it was confirmed that the dataset contains no duplicate rows. This ensures the integrity and uniqueness of the data entries, providing a robust foundation for the machine learning model's training and evaluation processes. Having a dataset free from duplicates helps in maintaining the accuracy of the model’s predictions and avoids potential biases or redundancies."
   ]
  },
  {
   "cell_type": "code",
   "execution_count": null,
   "id": "a8af61cb-712c-443d-bfe2-687a2f6e1793",
   "metadata": {},
   "outputs": [],
   "source": [
    "# Check for missing values\n",
    "print(\"Missing values:\\n\", df.isna().sum())"
   ]
  },
  {
   "cell_type": "markdown",
   "id": "b8131081-7cba-4e2e-94f2-b3cc407f62f1",
   "metadata": {},
   "source": [
    "**Note**: Missing Values\n",
    "\n",
    "There are no missing values in the dataset "
   ]
  },
  {
   "cell_type": "code",
   "execution_count": null,
   "id": "9fdf8534-680a-40da-8313-c54c82054c98",
   "metadata": {},
   "outputs": [],
   "source": [
    "df.info()"
   ]
  },
  {
   "cell_type": "code",
   "execution_count": null,
   "id": "0b5f0335-ea0a-4ef7-b839-ca643bc04728",
   "metadata": {},
   "outputs": [],
   "source": [
    "df.describe().T"
   ]
  },
  {
   "cell_type": "markdown",
   "id": "0c06c76d-988e-4241-8acc-81586ebc782d",
   "metadata": {},
   "source": [
    "## **Observations**:\n",
    "\n",
    "### Shape of the Dataset:\n",
    "- **Number of Rows (Data points)**: 1898\n",
    "- **Number of Columns (Features)**: 9\n",
    "\n",
    "### Missing Values:\n",
    "The dataset does not have any missing values for most columns. However, the **rating** column contains instances of \"Not given,\" which represent missing data. These missing values in the **rating** column will be handled by either imputing them or creating a binary feature to represent the missing status.\n",
    "\n",
    "### Target Variable:\n",
    "- The target variable could be **rating** if we are predicting customer satisfaction or **cost_of_the_order**, **food_preparation_time**, or **delivery_time** if the focus is on predicting operational or financial outcomes. Depending on the task, the appropriate target variable will be chosen for model training. "
   ]
  },
  {
   "cell_type": "markdown",
   "id": "63764ca8-70f0-45f8-872b-7e23dcc95c75",
   "metadata": {},
   "source": [
    "## **Feature Engineering**"
   ]
  },
  {
   "cell_type": "code",
   "execution_count": null,
   "id": "fc05b75a-8381-4011-82a8-26ca698b3dc8",
   "metadata": {},
   "outputs": [],
   "source": [
    "df['total_order_time'] = df['food_preparation_time'] + df['delivery_time']\n",
    "df.head()"
   ]
  },
  {
   "cell_type": "code",
   "execution_count": null,
   "id": "60535e44-3de8-4767-aa9a-066c15e677a3",
   "metadata": {},
   "outputs": [],
   "source": [
    "print(f'Number of unique orders {df.order_id.nunique()}')"
   ]
  },
  {
   "cell_type": "code",
   "execution_count": null,
   "id": "890003f3-192e-4b46-9e70-3e42502a4353",
   "metadata": {},
   "outputs": [],
   "source": [
    "n_customer = df.customer_id.nunique()\n",
    "print(f'Number of unique customers {n_customer}')"
   ]
  },
  {
   "cell_type": "code",
   "execution_count": null,
   "id": "e011f290-ba56-441e-a2cc-fa0530d8856e",
   "metadata": {},
   "outputs": [],
   "source": [
    "n_cuisine_type= df.cuisine_type.nunique()\n",
    "print(f'Number of unique type of Cuisine {n_cuisine_type}')"
   ]
  },
  {
   "cell_type": "code",
   "execution_count": null,
   "id": "dbe3970e-27cb-401e-abbb-5aedc69217c8",
   "metadata": {},
   "outputs": [],
   "source": [
    "print(f'Number of unique rating {df['rating'].unique()}')"
   ]
  },
  {
   "cell_type": "code",
   "execution_count": null,
   "id": "75226d15-1ca9-4bbe-ad99-be40e334c023",
   "metadata": {},
   "outputs": [],
   "source": [
    "(df['rating'] == 'Not given').sum()"
   ]
  },
  {
   "cell_type": "code",
   "execution_count": null,
   "id": "da4ecf53-cdf2-4aa4-8cc5-e782c163413f",
   "metadata": {},
   "outputs": [],
   "source": [
    "df.head()"
   ]
  },
  {
   "cell_type": "code",
   "execution_count": null,
   "id": "8915fe35-76dd-4210-bd82-5b0957d1492b",
   "metadata": {},
   "outputs": [],
   "source": [
    "# Filter the rows where rating is 'Not given'\n",
    "not_given_df = df[df['rating'] == 'Not given']\n",
    "\n",
    "# Display the filtered rows\n",
    "not_given_df.sample(10)\n"
   ]
  },
  {
   "cell_type": "markdown",
   "id": "a3379370-6e70-4289-ad74-028558e8b7ee",
   "metadata": {},
   "source": [
    "## **Visualize the data** "
   ]
  },
  {
   "cell_type": "code",
   "execution_count": null,
   "id": "7317fecb-0f6c-4984-a8cc-b1f4d9511048",
   "metadata": {},
   "outputs": [],
   "source": [
    "# Set plot style\n",
    "sns.set(style=\"whitegrid\")\n",
    "\n",
    "# Plot the distribution of ratings\n",
    "plt.figure(figsize=(10, 6))\n",
    "sns.histplot(df['rating'], bins=20, kde=True)\n",
    "plt.title('Distribution of Restaurant Ratings')\n",
    "plt.xlabel('Rating')\n",
    "plt.ylabel('Frequency')\n",
    "plt.show()\n",
    "\n",
    "# Plot the distribution of total order time\n",
    "plt.figure(figsize=(10, 6))\n",
    "sns.histplot(df['total_order_time'], bins=20, kde=True)\n",
    "plt.title('Distribution of Total Order Time')\n",
    "plt.xlabel('Total Order Time (Minutes)')\n",
    "plt.ylabel('Frequency')\n",
    "plt.show()\n"
   ]
  },
  {
   "cell_type": "code",
   "execution_count": null,
   "id": "0cb1079d-8005-4dd5-b98e-3faf1a371f93",
   "metadata": {},
   "outputs": [],
   "source": [
    "# Boxplot for ratings by cuisine type\n",
    "plt.figure(figsize=(10, 6))\n",
    "sns.boxplot(x='cuisine_type', y='rating', data=df)\n",
    "plt.title('Ratings by Cuisine Type')\n",
    "plt.xlabel('Cuisine Type')\n",
    "plt.ylabel('Rating')\n",
    "plt.xticks(rotation=45)\n",
    "plt.show()\n",
    "\n",
    "# Boxplot for total order time by cuisine type\n",
    "plt.figure(figsize=(10, 6))\n",
    "sns.boxplot(x='cuisine_type', y='total_order_time', data=df)\n",
    "plt.title('Total Order Time by Cuisine Type')\n",
    "plt.xlabel('Cuisine Type')\n",
    "plt.ylabel('Total Order Time (Minutes)')\n",
    "plt.xticks(rotation=45)\n",
    "plt.show()\n"
   ]
  },
  {
   "cell_type": "code",
   "execution_count": null,
   "id": "dfb9a8bb-4504-43aa-b97b-62d0ff9b12a2",
   "metadata": {},
   "outputs": [],
   "source": [
    "# Assuming you have already done some initial aggregations, we calculate order_count here\n",
    "df['order_count'] = df.groupby('restaurant_name')['order_id'].transform('count')\n",
    "\n",
    "# Now check the dataframe to ensure `order_count` is added\n",
    "print(df[['restaurant_name', 'order_count']].head())\n"
   ]
  },
  {
   "cell_type": "code",
   "execution_count": null,
   "id": "1bb9406e-7fef-422f-9a79-78e355adf820",
   "metadata": {},
   "outputs": [],
   "source": [
    "# Correlation heatmap\n",
    "corr = df[['rating', 'total_order_time', 'order_count']].corr()\n",
    "plt.figure(figsize=(8, 6))\n",
    "sns.heatmap(corr, annot=True, cmap='coolwarm', fmt='.2f')\n",
    "plt.title('Correlation Between Key Variables')\n",
    "plt.show()\n"
   ]
  },
  {
   "cell_type": "code",
   "execution_count": null,
   "id": "7546a66d-0cec-43c8-beb7-344b6e55c097",
   "metadata": {},
   "outputs": [],
   "source": [
    "# Extract unique total order times\n",
    "total_orders = not_given_df['total_order_time'].unique()\n",
    "\n",
    "# Create a new figure\n",
    "plt.figure(figsize=(10, 6))\n",
    "\n",
    "# Plotting the unique total order times\n",
    "plt.plot(total_orders, marker='o')\n",
    "\n",
    "# Adding labels and title\n",
    "plt.xlabel('Index')\n",
    "plt.ylabel('Total Order Time')\n",
    "plt.title('Unique Total Order Times for Ratings Not Given')\n",
    "\n",
    "# Show the plot\n",
    "plt.grid(True)\n",
    "plt.show()\n"
   ]
  },
  {
   "cell_type": "code",
   "execution_count": null,
   "id": "f1e408e7-110b-472c-8907-80ebf587b7ca",
   "metadata": {},
   "outputs": [],
   "source": [
    "not_given_df['cost_of_the_order'].unique().sum()"
   ]
  },
  {
   "cell_type": "code",
   "execution_count": null,
   "id": "5df2dd55-e2ae-433d-8e58-62faca66e044",
   "metadata": {},
   "outputs": [],
   "source": [
    "not_given_df['cost_of_the_order'].sum()"
   ]
  },
  {
   "cell_type": "code",
   "execution_count": null,
   "id": "bb35dbc8-d81a-4d7c-aaa0-d4f74687f706",
   "metadata": {},
   "outputs": [],
   "source": [
    "# Extract cost of the orders\n",
    "costs = not_given_df['cost_of_the_order'].unique()\n",
    "\n",
    "# Create a new figure\n",
    "plt.figure(figsize=(10, 6))\n",
    "\n",
    "# Plotting the cost of the orders\n",
    "plt.plot(costs, marker='o', linestyle='-', color='b')\n",
    "\n",
    "# Adding labels and title\n",
    "plt.xlabel('Index')\n",
    "plt.ylabel('Cost of the Order')\n",
    "plt.title('Cost of the Orders for Ratings Not Given')\n",
    "\n",
    "# Show the plot\n",
    "plt.grid(True)\n",
    "plt.show()"
   ]
  },
  {
   "cell_type": "code",
   "execution_count": null,
   "id": "0202c4fd-a953-42ea-8801-5d43f8d9c002",
   "metadata": {},
   "outputs": [],
   "source": [
    "#delete the rows that have 'not given' in the rating column\n",
    "df.drop(df.index[df['rating']=='Not given'], inplace= True)"
   ]
  },
  {
   "cell_type": "code",
   "execution_count": null,
   "id": "fc82f670-e9bc-49ce-8f32-9588ebe170f1",
   "metadata": {},
   "outputs": [],
   "source": [
    "df.head(10)"
   ]
  },
  {
   "cell_type": "code",
   "execution_count": null,
   "id": "b20ebd88-07c7-4195-a2bc-df0e162befd4",
   "metadata": {},
   "outputs": [],
   "source": [
    "print(f'Number of different cuisine type {df.cuisine_type.nunique()}')"
   ]
  },
  {
   "cell_type": "code",
   "execution_count": null,
   "id": "ff3fc450-22f3-4093-850e-909a99c4f0d8",
   "metadata": {},
   "outputs": [],
   "source": [
    "n_restaurants = df.restaurant_name.nunique()\n",
    "print(f'Number of unique restaurants {n_restaurants}')"
   ]
  },
  {
   "cell_type": "code",
   "execution_count": null,
   "id": "bb8465af-825b-4f23-9b79-d1af688e99ca",
   "metadata": {},
   "outputs": [],
   "source": [
    "# Count the occurrences of each cuisine type for weekdays and weekends\n",
    "cuisine_counts = df.groupby(['cuisine_type', 'day_of_the_week']).size().unstack(fill_value=0)\n",
    "\n",
    "# Create a bar plot\n",
    "cuisine_counts.plot(kind='bar', figsize=(12, 6), width=0.8)\n",
    "\n",
    "# Adding labels and title\n",
    "plt.xlabel('Cuisine Type')\n",
    "plt.ylabel('Number of Orders')\n",
    "plt.title('Cuisine Sold on Weekends vs Weekdays')\n",
    "plt.legend(title='Day of the Week')\n",
    "plt.grid(True)\n",
    "\n",
    "# Show the plot\n",
    "plt.show()"
   ]
  },
  {
   "cell_type": "code",
   "execution_count": null,
   "id": "7a1e6a47-ba27-40b3-9aed-5bd05a18370b",
   "metadata": {},
   "outputs": [],
   "source": [
    "df['cuisine_type'].value_counts()"
   ]
  },
  {
   "cell_type": "code",
   "execution_count": null,
   "id": "7e61b761-6dc1-4974-a54e-8a711fc31bb8",
   "metadata": {},
   "outputs": [],
   "source": [
    "fig = px.pie(values=df['cuisine_type'].value_counts().values, names=df['cuisine_type'].value_counts().index, title=\"Cuisine Type vs Order Count\")\n",
    "fig.show()"
   ]
  },
  {
   "cell_type": "markdown",
   "id": "fe936da3-a68e-4de8-a578-f3aa0cf12217",
   "metadata": {},
   "source": [
    "## **Observations**:\n",
    "\n",
    "In examining the data for cuisine preferences on both weekends and weekdays, it is evident that **American cuisine** is the most popular choice, with **368** orders accounting for approximately **31.7%** of the total. Following closely behind, **Japanese cuisine** is preferred by around **23.5%** of the customers, with **273** orders. **Italian cuisine** also holds a significant share, with **172** orders representing about **14.8%** of the total. **Chinese cuisine** has **133** orders, making up about **11.4%** of the total orders. Other cuisines, including **Indian, Mexican, Middle Eastern, Mediterranean, Southern, French, Thai, Korean, Spanish, and Vietnamese**, are ordered less frequently and constitute the remaining percentage of orders."
   ]
  },
  {
   "cell_type": "code",
   "execution_count": null,
   "id": "3982b980-5ce6-4c22-875f-c5abea298970",
   "metadata": {},
   "outputs": [],
   "source": [
    "# Create box plot\n",
    "fig = px.box(df, y=\"cost_of_the_order\", x=\"cuisine_type\")\n",
    "fig.show()"
   ]
  },
  {
   "cell_type": "code",
   "execution_count": null,
   "id": "cccb2df8-b79a-416c-b6ee-e4c564fa5d69",
   "metadata": {},
   "outputs": [],
   "source": [
    "# Group by cuisine type and day of the week, and sum the cost of the orders\n",
    "grouped_df = df.groupby(['cuisine_type', 'day_of_the_week'])['cost_of_the_order'].sum().unstack(fill_value=0)\n",
    "\n",
    "# Create a grouped bar plot\n",
    "grouped_df.plot(kind='bar', figsize=(12, 6))\n",
    "\n",
    "# Adding labels and title\n",
    "plt.xlabel('Cuisine Type')\n",
    "plt.ylabel('Total Cost of the Orders')\n",
    "plt.title('Total Cost Spent on Each Cuisine Type by Day of the Week')\n",
    "plt.legend(title='Day of the Week')\n",
    "plt.grid(True)\n",
    "\n",
    "# Show the plot\n",
    "plt.show()"
   ]
  },
  {
   "cell_type": "code",
   "execution_count": null,
   "id": "1f2f4fae-e368-4bb5-b322-c63ebb6f7e1a",
   "metadata": {},
   "outputs": [],
   "source": [
    "# Create box plot\n",
    "fig = px.box(df, y=\"cost_of_the_order\", x=\"cuisine_type\", color=\"day_of_the_week\", \n",
    "             title=\"Cost of the Order by Cuisine Type on Weekdays and Weekends\")\n",
    "fig.show()"
   ]
  },
  {
   "cell_type": "code",
   "execution_count": null,
   "id": "a72e556b-a5a5-4d80-aed6-51dda28da9e6",
   "metadata": {},
   "outputs": [],
   "source": [
    "# Create box plot for food preparation time vs cuisine type\n",
    "fig = px.box(df, y=\"food_preparation_time\", x=\"cuisine_type\", \n",
    "             title=\"Distribution of Food Preparation Time by Cuisine Type\")\n",
    "fig.show()"
   ]
  },
  {
   "cell_type": "code",
   "execution_count": null,
   "id": "1a11f26d-9632-4bc5-b730-fbd1449c8541",
   "metadata": {},
   "outputs": [],
   "source": [
    "# Convert the rating column to numeric type\n",
    "df['rating'] = pd.to_numeric(df['rating'], errors='coerce')\n",
    "\n",
    "# Calculate the average rating for each cuisine type\n",
    "average_ratings = df.groupby('cuisine_type')['rating'].mean()\n",
    "\n",
    "# Create a line plot for average ratings by cuisine type\n",
    "plt.figure(figsize=(12, 6))\n",
    "average_ratings.plot(kind='line', marker='o', linestyle='-', color='skyblue')\n",
    "\n",
    "# Adding labels and title\n",
    "plt.xlabel('Cuisine Type')\n",
    "plt.ylabel('Average Rating')\n",
    "plt.title('Average Rating by Cuisine Type')\n",
    "plt.grid(True)\n",
    "plt.show()"
   ]
  },
  {
   "cell_type": "code",
   "execution_count": null,
   "id": "ee0d9e69-0f87-4542-adf4-a681f67f6a50",
   "metadata": {},
   "outputs": [],
   "source": [
    "fig = px.box(df, y=\"delivery_time\", x=\"day_of_the_week\", title='Delivery Time - Day of Week')\n",
    "fig.show()"
   ]
  },
  {
   "cell_type": "code",
   "execution_count": null,
   "id": "fdfb7b12-431e-4601-a419-0b8d2b873cd3",
   "metadata": {},
   "outputs": [],
   "source": [
    "df.head()"
   ]
  },
  {
   "cell_type": "code",
   "execution_count": null,
   "id": "28f2d25e-f197-44bc-8c16-758f5998084d",
   "metadata": {},
   "outputs": [],
   "source": [
    "# Create box plot for food preparation time by restaurant name\n",
    "fig = px.box(df, y=\"food_preparation_time\", x=\"restaurant_name\", \n",
    "             title=\"Food Preparation Time by Restaurant Name\")\n",
    "fig.show()"
   ]
  },
  {
   "cell_type": "code",
   "execution_count": null,
   "id": "d6ab458b-7b4a-4ef9-b50f-81c63ffcdb06",
   "metadata": {},
   "outputs": [],
   "source": [
    "# Calculate the average food preparation time for each restaurant\n",
    "avg_prep_time = df.groupby('restaurant_name')['food_preparation_time'].mean()\n",
    "\n",
    "# Create a line plot\n",
    "plt.figure(figsize=(12, 6))\n",
    "avg_prep_time.plot(kind='line', marker='o', linestyle='-', color='skyblue')\n",
    "\n",
    "# Adding labels and title\n",
    "plt.xlabel('Restaurant Name')\n",
    "plt.ylabel('Average Food Preparation Time (minutes)')\n",
    "plt.title('Average Food Preparation Time by Restaurant')\n",
    "plt.xticks(rotation=45)\n",
    "plt.grid(True)\n",
    "plt.tight_layout()\n",
    "\n",
    "# Show the plot\n",
    "plt.show()"
   ]
  },
  {
   "cell_type": "code",
   "execution_count": null,
   "id": "39c0fd44-2ddd-4bb1-af3d-a7fa2505d453",
   "metadata": {},
   "outputs": [],
   "source": []
  },
  {
   "cell_type": "code",
   "execution_count": null,
   "id": "d0e0a562-6805-4eb2-a588-87419dfac34c",
   "metadata": {},
   "outputs": [],
   "source": [
    "df.head()"
   ]
  },
  {
   "cell_type": "code",
   "execution_count": null,
   "id": "32a78694-64f3-4ce0-94b3-113d30f41b62",
   "metadata": {},
   "outputs": [],
   "source": [
    "# Calculate the average delivery time for each restaurant\n",
    "avg_delivery_time = df.groupby('restaurant_name')['delivery_time'].mean().reset_index()\n",
    "\n",
    "# Sort the restaurants by average delivery time\n",
    "sorted_delivery_time = avg_delivery_time.sort_values(by='delivery_time')\n",
    "\n",
    "# Select the 15 restaurants with the least delivery time\n",
    "least_delivery_time = sorted_delivery_time.head(15)\n",
    "\n",
    "# Select the 15 restaurants with the most delivery time\n",
    "most_delivery_time = sorted_delivery_time.tail(15)\n",
    "\n",
    "# Merge the data back into the original dataframe\n",
    "least_delivery_df = df[df['restaurant_name'].isin(least_delivery_time['restaurant_name'])]\n",
    "most_delivery_df = df[df['restaurant_name'].isin(most_delivery_time['restaurant_name'])]\n",
    "\n",
    "# Create bar plots for both groups\n",
    "fig_least = px.bar(least_delivery_df, y=\"restaurant_name\", x=\"delivery_time\", \n",
    "                   title=\"Delivery Time for Restaurants with Least Delivery Time\", orientation=\"h\")\n",
    "fig_most = px.bar(most_delivery_df, y=\"restaurant_name\", x=\"delivery_time\", \n",
    "                  title=\"Delivery Time for Restaurants with Most Delivery Time\", orientation=\"h\")\n",
    "\n",
    "# Show the plots\n",
    "fig_least.show()\n",
    "fig_most.show()"
   ]
  },
  {
   "cell_type": "code",
   "execution_count": null,
   "id": "bb46303f-9df0-4d11-8092-a55fe8b986a6",
   "metadata": {},
   "outputs": [],
   "source": [
    "# Calculate the average cost of the order for each restaurant\n",
    "avg_cost = df.groupby('restaurant_name')['cost_of_the_order'].mean().reset_index()\n",
    "\n",
    "# Create a bar plot for average cost by restaurant name\n",
    "fig = px.bar(avg_cost, y=\"restaurant_name\", x=\"cost_of_the_order\", \n",
    "             title=\"Average Cost of Cuisine by Restaurant\", orientation=\"h\")\n",
    "\n",
    "# Update layout for better readability\n",
    "fig.update_layout(\n",
    "    height=1200, \n",
    "    width=1400, \n",
    "    margin=dict(l=300, r=50, b=100, t=100), \n",
    "    xaxis_title=\"Average Cost of the Order\",\n",
    "    yaxis_title=\"Restaurant Name\"\n",
    ")\n",
    "\n",
    "fig.show()"
   ]
  },
  {
   "cell_type": "code",
   "execution_count": null,
   "id": "93dc48fd-e8aa-4699-abfd-56d970e37413",
   "metadata": {},
   "outputs": [],
   "source": [
    "# Create box plot for cost of the order based on the day of the week\n",
    "fig = px.box(df, y=\"cost_of_the_order\", x=\"day_of_the_week\", \n",
    "             title='Amount Spent on Orders by Day of the Week')\n",
    "fig.show()"
   ]
  },
  {
   "cell_type": "code",
   "execution_count": null,
   "id": "96c45a6c-9f9b-4875-89d5-5ee1a986948e",
   "metadata": {},
   "outputs": [],
   "source": [
    "# Bar plot for day_of_the_week variable\n",
    "sns.countplot(data=df, x='day_of_the_week');\n",
    "plt.show()"
   ]
  },
  {
   "cell_type": "code",
   "execution_count": null,
   "id": "70ee026b-24cb-420e-9960-63abccc45893",
   "metadata": {},
   "outputs": [],
   "source": [
    "# Create box plot for delivery time by restaurant name and day of the week\n",
    "fig = px.box(df, y=\"restaurant_name\", x=\"delivery_time\", color=\"day_of_the_week\", \n",
    "             title=\"Delivery Time by Restaurant and Day of the Week\", orientation=\"h\")\n",
    "\n",
    "fig.show()"
   ]
  },
  {
   "cell_type": "code",
   "execution_count": null,
   "id": "d60e27f6-c323-4047-9edb-fb2c0b00d58e",
   "metadata": {},
   "outputs": [],
   "source": [
    "# Filter data for weekends\n",
    "weekend_df = df[df['day_of_the_week'] == 'Weekend']\n",
    "\n",
    "# Create a bar plot for weekends\n",
    "fig_weekend = px.bar(weekend_df, y=\"restaurant_name\", x=\"delivery_time\", \n",
    "                     title=\"Delivery Time by Restaurant (Weekend)\", orientation=\"h\", color_discrete_sequence=['red'])\n",
    "\n",
    "# Increase the figure size and adjust margins\n",
    "fig_weekend.update_layout(\n",
    "    height=1200,\n",
    "    width=1400,\n",
    "    margin=dict(l=300, r=50, b=100, t=100),\n",
    "    xaxis_title=\"Delivery Time (minutes)\",\n",
    "    yaxis_title=\"Restaurant Name\"\n",
    ")\n",
    "\n",
    "fig_weekend.show()"
   ]
  },
  {
   "cell_type": "code",
   "execution_count": null,
   "id": "f4ec8d3b-1b00-4c07-b3c9-77de85b02c5d",
   "metadata": {},
   "outputs": [],
   "source": [
    "# Filter data for weekdays\n",
    "weekday_df = df[df['day_of_the_week'] == 'Weekday']\n",
    "\n",
    "# Create a bar plot for weekdays\n",
    "fig_weekday = px.bar(weekday_df, y=\"restaurant_name\", x=\"delivery_time\", \n",
    "                     title=\"Delivery Time by Restaurant (Weekday)\", orientation=\"h\", color_discrete_sequence=['blue'])\n",
    "\n",
    "# Increase the figure size and adjust margins\n",
    "fig_weekday.update_layout(\n",
    "    height=1200,\n",
    "    width=1400,\n",
    "    margin=dict(l=300, r=50, b=100, t=100),\n",
    "    xaxis_title=\"Delivery Time (minutes)\",\n",
    "    yaxis_title=\"Restaurant Name\"\n",
    ")\n",
    "\n",
    "fig_weekday.show()"
   ]
  },
  {
   "cell_type": "code",
   "execution_count": null,
   "id": "091260ae-067d-4bf1-9320-20f9ae064e9e",
   "metadata": {},
   "outputs": [],
   "source": [
    "# Count the number of orders for each restaurant\n",
    "order_counts = df['restaurant_name'].value_counts().reset_index()\n",
    "order_counts.columns = ['restaurant_name', 'number_of_orders']\n",
    "\n",
    "# Create a bar plot for the number of orders made from each restaurant\n",
    "fig = px.bar(order_counts, x='restaurant_name', y='number_of_orders', \n",
    "             title='Number of Orders Made from Each Restaurant', \n",
    "             labels={'restaurant_name':'Restaurant Name', 'number_of_orders':'Number of Orders'})\n",
    "\n",
    "# Increase the figure size and adjust margins\n",
    "fig.update_layout(\n",
    "    height=800,\n",
    "    width=1000,\n",
    "    margin=dict(l=50, r=50, b=100, t=100)\n",
    ")\n",
    "\n",
    "fig.show()"
   ]
  },
  {
   "cell_type": "code",
   "execution_count": null,
   "id": "35c567a2-e06c-4f34-918e-9a61c321ec36",
   "metadata": {},
   "outputs": [],
   "source": [
    "# Count the number of orders for each cuisine type\n",
    "cuisine_counts = df['cuisine_type'].value_counts().reset_index()\n",
    "cuisine_counts.columns = ['cuisine_type', 'number_of_orders']\n",
    "\n",
    "# Create a bar plot for the number of orders made for each cuisine type\n",
    "fig = px.bar(cuisine_counts, x='cuisine_type', y='number_of_orders', \n",
    "             title='Number of Orders by Cuisine Type', \n",
    "             labels={'cuisine_type':'Cuisine Type', 'number_of_orders':'Number of Orders'})\n",
    "\n",
    "# Increase the figure size and adjust margins\n",
    "fig.update_layout(\n",
    "    height=800,\n",
    "    width=1000,\n",
    "    margin=dict(l=50, r=50, b=100, t=100)\n",
    ")\n",
    "\n",
    "fig.show()"
   ]
  },
  {
   "cell_type": "code",
   "execution_count": null,
   "id": "547c8c9e-e30a-4b91-ae9e-e36b1b535495",
   "metadata": {},
   "outputs": [],
   "source": [
    "# Scatter plot of rating vs. restaurant_name\n",
    "fig = px.scatter(df, x='restaurant_name', y='rating', \n",
    "                 title='Customer Ratings', \n",
    "                 labels={'restaurant_name': 'Restaurant Name', 'rating': 'Rating'})\n",
    "\n",
    "# Adjust figure size and margins\n",
    "fig.update_layout(\n",
    "    height=800,\n",
    "    width=1000,\n",
    "    margin=dict(l=50, r=50, b=100, t=100)\n",
    ")\n",
    "\n",
    "# Show the plot\n",
    "fig.show()"
   ]
  },
  {
   "cell_type": "code",
   "execution_count": null,
   "id": "30aeab05-6a38-4277-a2da-b1680b2eca0f",
   "metadata": {},
   "outputs": [],
   "source": [
    "import plotly.graph_objects as go\n",
    "from plotly.subplots import make_subplots\n",
    "import plotly.express as px\n",
    "\n",
    "# Creating the subplots layout\n",
    "fig = make_subplots(\n",
    "    rows=2, cols=1, shared_xaxes=True, subplot_titles=['Restaurant Rating', 'Restaurant Rating Counts']\n",
    ")\n",
    "\n",
    "# Add Box plot for ratings by restaurant name\n",
    "fig.add_trace(\n",
    "    px.box(df[df['restaurant_name'].isin(df.head(10)['restaurant_name'])],\n",
    "           y=\"rating\", \n",
    "           x=\"restaurant_name\")['data'][0],\n",
    "    row=1, col=1\n",
    ")\n",
    "\n",
    "# Add Bar plot for count of ratings per restaurant (using rating as example)\n",
    "fig.add_trace(\n",
    "    px.bar(df, \n",
    "           y=\"rating\", \n",
    "           x=\"restaurant_name\", \n",
    "           title=\"Restaurant Rating Counts\").data[0],  # Use the correct trace from the bar plot\n",
    "    row=2, col=1\n",
    ")\n",
    "\n",
    "# Update layout for better appearance\n",
    "fig.update_layout(\n",
    "    height=800,\n",
    "    width=1000,\n",
    "    margin=dict(l=50, r=50, b=100, t=100),\n",
    "    showlegend=False\n",
    ")\n",
    "\n",
    "# Show the plot\n",
    "fig.show()\n"
   ]
  },
  {
   "cell_type": "code",
   "execution_count": null,
   "id": "675dbb1e-1a6d-4e3c-aa44-7cc3135e5554",
   "metadata": {},
   "outputs": [],
   "source": [
    "# Aggregate data to count the number of orders per restaurant\n",
    "agg_data = df.groupby('restaurant_name').size().reset_index(name='number_of_orders')\n",
    "\n",
    "# Create a bar plot for the number of orders per restaurant\n",
    "import plotly.express as px\n",
    "\n",
    "fig = px.bar(agg_data, \n",
    "             x='restaurant_name', \n",
    "             y='number_of_orders', \n",
    "             title='Number of Orders by Restaurant', \n",
    "             labels={'restaurant_name': 'Restaurant Name', 'number_of_orders': 'Number of Orders'})\n",
    "\n",
    "fig.show()\n"
   ]
  },
  {
   "cell_type": "code",
   "execution_count": null,
   "id": "3852e360-c0dc-4373-9e7c-fa57a82b900e",
   "metadata": {},
   "outputs": [],
   "source": [
    "import plotly.express as px\n",
    "\n",
    "# Create a histogram of ratings\n",
    "fig = px.histogram(df, x=\"rating\", nbins=50, title='Distribution of Restaurant Ratings')\n",
    "\n",
    "# Show the plot\n",
    "fig.show()\n"
   ]
  },
  {
   "cell_type": "code",
   "execution_count": null,
   "id": "47cf30b8-b5d0-437c-9996-8afca6366c92",
   "metadata": {},
   "outputs": [],
   "source": [
    "fig = px.histogram(df, x=\"cost_of_the_order\", nbins=50, title='Distribution of Order Costs')\n",
    "\n",
    "# Show the plot\n",
    "fig.show()\n"
   ]
  },
  {
   "cell_type": "code",
   "execution_count": null,
   "id": "2ea14b24-b8e8-4e9a-af88-1b19f9510f53",
   "metadata": {},
   "outputs": [],
   "source": [
    "# Calculate the average rating for each restaurant\n",
    "avg_ratings = df.groupby('restaurant_name')['rating'].mean().reset_index()\n",
    "\n",
    "# Sort the restaurants by average rating in descending order\n",
    "sorted_ratings = avg_ratings.sort_values(by='rating', ascending=False)\n",
    "\n",
    "# Select the top 15 restaurants with the highest average rating\n",
    "top_100_ratings = sorted_ratings.head(100)\n",
    "\n",
    "# Create a bar plot for the top 15 restaurants with the highest average rating\n",
    "fig = px.bar(top_100_ratings, x='restaurant_name', y='rating', \n",
    "             title='Top 100 Restaurants with Highest Average Rating', \n",
    "             labels={'restaurant_name':'Restaurant Name', 'rating':'Average Rating'})\n",
    "\n",
    "# Increase the figure size and adjust margins\n",
    "fig.update_layout(\n",
    "    height=800,\n",
    "    width=1000,\n",
    "    margin=dict(l=50, r=50, b=100, t=100)\n",
    ")\n",
    "\n",
    "fig.show()"
   ]
  },
  {
   "cell_type": "code",
   "execution_count": null,
   "id": "1049a1d6-b88c-41e4-bbed-75aafd8db6bf",
   "metadata": {},
   "outputs": [],
   "source": [
    "import plotly.express as px\n",
    "\n",
    "# Assuming 'df' is your DataFrame\n",
    "\n",
    "# If the number of order_ids is large, we can aggregate the data first.\n",
    "# For example, you can aggregate by restaurant_name and get the sum of costs.\n",
    "agg_df = df.groupby('restaurant_name')['cost_of_the_order'].sum().reset_index()\n",
    "\n",
    "# Create a bar plot for aggregated cost_by_restaurant\n",
    "fig = px.bar(agg_df, x='restaurant_name', y='cost_of_the_order', \n",
    "             title='Total Cost Spent at Each Restaurant', \n",
    "             labels={'restaurant_name': 'Restaurant Name', 'cost_of_the_order': 'Total Cost of Orders'},\n",
    "             color='cost_of_the_order',  # Adding color for better visual appeal\n",
    "             color_continuous_scale=px.colors.sequential.Viridis)  # Using a color palette\n",
    "\n",
    "# Adjusting the layout\n",
    "fig.update_layout(\n",
    "    height=800,\n",
    "    width=1000,\n",
    "    margin=dict(l=50, r=50, b=100, t=100),\n",
    "    xaxis_title='Restaurant Name',\n",
    "    yaxis_title='Total Cost of Orders',\n",
    "    xaxis=dict(\n",
    "        tickangle=-45,  # Rotating the x-axis labels for better readability\n",
    "        tickmode='array',  # Use an array of specific tick labels\n",
    "        showticklabels=True  # Display labels more cleanly\n",
    "    ),\n",
    "    yaxis=dict(tickmode='linear'),\n",
    "    plot_bgcolor='rgba(0,0,0,0)',  # Making the background transparent\n",
    "    paper_bgcolor='rgba(0,0,0,0)',  # Making the background transparent\n",
    "    showlegend=False  # Hiding the legend if not necessary\n",
    ")\n",
    "\n",
    "# Adding light gridlines\n",
    "fig.update_xaxes(showgrid=True, gridwidth=1, gridcolor='LightGray')\n",
    "fig.update_yaxes(showgrid=True, gridwidth=1, gridcolor='LightGray')\n",
    "\n",
    "# Optionally remove range selector for a cleaner view\n",
    "fig.update_xaxes(rangeslider=dict(visible=False))\n",
    "\n",
    "fig.show()\n"
   ]
  },
  {
   "cell_type": "code",
   "execution_count": null,
   "id": "79110a58-06e5-455f-937c-11cef675d583",
   "metadata": {},
   "outputs": [],
   "source": [
    "from plotly.subplots import make_subplots\n",
    "import plotly.graph_objects as go\n",
    "\n",
    "# Create subplots with 2 rows and 1 column\n",
    "fig = make_subplots(rows=2, cols=1, subplot_titles=['Total Cost of Orders', 'Number of Orders'])\n",
    "\n",
    "# Add the total cost bar plot\n",
    "fig.add_trace(go.Bar(x=agg_df['restaurant_name'], y=agg_df['cost_of_the_order'], name='Total Cost'), row=1, col=1)\n",
    "\n",
    "# Add the number of orders bar plot\n",
    "num_orders = df.groupby('restaurant_name').size().reset_index(name='num_orders')\n",
    "fig.add_trace(go.Bar(x=num_orders['restaurant_name'], y=num_orders['num_orders'], name='Number of Orders'), row=2, col=1)\n",
    "\n",
    "# Adjust layout to increase the size of the plot\n",
    "fig.update_layout(\n",
    "    title='Restaurant Order Insights',\n",
    "    height=800,  # Increase the height\n",
    "    width=1000,  # Increase the width\n",
    "    showlegend=False  # Optionally, hide legend if not necessary\n",
    ")\n",
    "\n",
    "fig.show()\n"
   ]
  },
  {
   "cell_type": "code",
   "execution_count": null,
   "id": "aa7c801e-7e7e-476e-8229-ee678c961f45",
   "metadata": {},
   "outputs": [],
   "source": [
    "# Create the scatter plot\n",
    "plt.figure(figsize=(10, 6))\n",
    "sns.scatterplot(\n",
    "    data=df,\n",
    "    x=\"total_order_time\",\n",
    "    y=\"rating\",\n",
    "    hue=\"cuisine_type\",\n",
    "    style=\"cuisine_type\",\n",
    "    s=100\n",
    ")\n",
    "\n",
    "# Add labels and title\n",
    "plt.title(\"Ratings vs. Total Order Time by Cuisine Type\", fontsize=14)\n",
    "plt.xlabel(\"Total Order Time (minutes)\", fontsize=12)\n",
    "plt.ylabel(\"Rating\", fontsize=12)\n",
    "plt.legend(title=\"Cuisine Type\", bbox_to_anchor=(1.05, 1), loc='upper left')\n",
    "plt.grid(True)\n",
    "plt.show()"
   ]
  },
  {
   "cell_type": "code",
   "execution_count": null,
   "id": "0c2eec23-ab00-409b-9bf2-66ce1b138cb6",
   "metadata": {},
   "outputs": [],
   "source": [
    "# Calculate average ratings by cuisine type\n",
    "avg_ratings = df.groupby(\"cuisine_type\")[\"rating\"].mean().sort_values(ascending=False)\n",
    "\n",
    "# Create the bar chart\n",
    "plt.figure(figsize=(10, 6))\n",
    "avg_ratings.plot(kind=\"bar\", color=\"skyblue\", edgecolor=\"black\")\n",
    "\n",
    "# Add labels and title\n",
    "plt.title(\"Average Ratings by Cuisine Type\", fontsize=14)\n",
    "plt.xlabel(\"Cuisine Type\", fontsize=12)\n",
    "plt.ylabel(\"Average Rating\", fontsize=12)\n",
    "plt.xticks(rotation=45)\n",
    "plt.grid(axis='y', linestyle='--', alpha=0.7)\n",
    "plt.tight_layout()\n",
    "\n",
    "# Display the plot\n",
    "plt.show()"
   ]
  },
  {
   "cell_type": "code",
   "execution_count": null,
   "id": "604ba6a0-b684-416e-9c71-a5ea5f8c290e",
   "metadata": {},
   "outputs": [],
   "source": [
    "plt.figure(figsize=(10, 6))\n",
    "sns.countplot(data=df, x=\"cuisine_type\", palette=\"pastel\", order=df['cuisine_type'].value_counts().index)\n",
    "plt.title(\"Cuisine Type Distribution\", fontsize=14)\n",
    "plt.xlabel(\"Cuisine Type\", fontsize=12)\n",
    "plt.ylabel(\"Frequency\", fontsize=12)\n",
    "plt.xticks(rotation=45)\n",
    "plt.grid(axis='y', linestyle='--', alpha=0.7)\n",
    "plt.show()"
   ]
  },
  {
   "cell_type": "code",
   "execution_count": null,
   "id": "30403dec-c6d8-4cf2-9fe9-ac1027c2639c",
   "metadata": {},
   "outputs": [],
   "source": [
    "plt.figure(figsize=(10, 6))\n",
    "sns.boxplot(data=df, x=\"cuisine_type\", y=\"total_order_time\", palette=\"pastel\")\n",
    "plt.title(\"Total Order Time by Cuisine Type\", fontsize=14)\n",
    "plt.xlabel(\"Cuisine Type\", fontsize=12)\n",
    "plt.ylabel(\"Total Order Time (minutes)\", fontsize=12)\n",
    "plt.xticks(rotation=45)\n",
    "plt.show()"
   ]
  },
  {
   "cell_type": "code",
   "execution_count": null,
   "id": "6eb84a7f-d0ff-4d5f-aa61-7cf472a01824",
   "metadata": {},
   "outputs": [],
   "source": [
    "top_restaurants = df.nlargest(5, \"rating\")\n",
    "least_restaurants = df.nsmallest(5, \"rating\")"
   ]
  },
  {
   "cell_type": "code",
   "execution_count": null,
   "id": "816eb196-b216-4869-a3b8-0f54626c78fc",
   "metadata": {},
   "outputs": [],
   "source": [
    "plt.figure(figsize=(10, 6))\n",
    "sns.barplot(data=top_restaurants, x=\"restaurant_name\", y=\"rating\", palette=\"Blues_d\", ci=None)\n",
    "plt.title(\"Top 5 Highest-Rated Restaurants\", fontsize=14)\n",
    "plt.xlabel(\"Restaurant Name\", fontsize=12)\n",
    "plt.ylabel(\"Rating\", fontsize=12)\n",
    "plt.xticks(rotation=45)\n",
    "plt.show()"
   ]
  },
  {
   "cell_type": "code",
   "execution_count": null,
   "id": "032bc6a8-0e07-4abd-965d-e7138fd39e81",
   "metadata": {},
   "outputs": [],
   "source": [
    "# Least-rated restaurants\n",
    "plt.figure(figsize=(10, 6))\n",
    "sns.barplot(data=least_restaurants, x=\"restaurant_name\", y=\"rating\", palette=\"Reds_d\", ci=None)\n",
    "plt.title(\"Bottom 5 Least-Rated Restaurants\", fontsize=14)\n",
    "plt.xlabel(\"Restaurant Name\", fontsize=12)\n",
    "plt.ylabel(\"Rating\", fontsize=12)\n",
    "plt.xticks(rotation=45)\n",
    "plt.show()"
   ]
  },
  {
   "cell_type": "code",
   "execution_count": null,
   "id": "6069920e-9e0d-4bc3-91d1-4de26128feb4",
   "metadata": {},
   "outputs": [],
   "source": [
    "plt.figure(figsize=(10, 6))\n",
    "sns.histplot(data=df, x=\"rating\", kde=True, bins=10, color=\"purple\", alpha=0.7)\n",
    "plt.title(\"Rating Distribution\", fontsize=14)\n",
    "plt.xlabel(\"Rating\", fontsize=12)\n",
    "plt.ylabel(\"Frequency\", fontsize=12)\n",
    "plt.grid(axis='y', linestyle='--', alpha=0.7)\n",
    "plt.show()"
   ]
  },
  {
   "cell_type": "code",
   "execution_count": null,
   "id": "cfcffcb2-f38a-4cd0-974d-3e64b967c375",
   "metadata": {},
   "outputs": [],
   "source": [
    "# Heatmap: Cuisine Type and Total Order Time Correlation\n",
    "heatmap_data = df.pivot_table(values=\"total_order_time\", index=\"cuisine_type\", aggfunc=\"mean\")\n",
    "plt.figure(figsize=(10, 6))\n",
    "sns.heatmap(heatmap_data, annot=True, cmap=\"YlGnBu\", cbar=True)\n",
    "plt.title(\"Average Total Order Time by Cuisine Type\", fontsize=14)\n",
    "plt.xlabel(\"Cuisine Type\", fontsize=12)\n",
    "plt.ylabel(\"\")\n",
    "plt.show()"
   ]
  },
  {
   "cell_type": "code",
   "execution_count": null,
   "id": "6e8a426d-e10a-4eff-9d38-baa2e1076377",
   "metadata": {},
   "outputs": [],
   "source": [
    "df.columns"
   ]
  },
  {
   "cell_type": "code",
   "execution_count": null,
   "id": "4d3a753b-e57f-45a1-9045-00c0c8ee4c7c",
   "metadata": {},
   "outputs": [],
   "source": []
  },
  {
   "cell_type": "code",
   "execution_count": null,
   "id": "4ae1d92b-84f2-40d5-b8a3-7e3e43159388",
   "metadata": {},
   "outputs": [],
   "source": [
    "# Count the number of orders for each restaurant\n",
    "order_counts = df.groupby([\"restaurant_name\", \"cuisine_type\"]).size().reset_index(name=\"order_count\")\n",
    "\n",
    "# Sort by order count\n",
    "sorted_orders = order_counts.sort_values(by=\"order_count\", ascending=False)\n",
    "\n",
    "# Top 15 restaurants\n",
    "top_15 = sorted_orders.head(15)\n",
    "\n",
    "# Bottom 15 restaurants\n",
    "bottom_15 = sorted_orders.tail(15)"
   ]
  },
  {
   "cell_type": "code",
   "execution_count": null,
   "id": "23d5858f-2c5a-43b9-901e-a773d11c9f18",
   "metadata": {},
   "outputs": [],
   "source": [
    "# Plot the top 15 restaurants\n",
    "plt.figure(figsize=(12, 6))\n",
    "plt.barh(top_15[\"restaurant_name\"], top_15[\"order_count\"], color=\"skyblue\", edgecolor=\"black\")\n",
    "plt.title(\"Top 15 Restaurants by Number of Orders\", fontsize=14)\n",
    "plt.xlabel(\"Number of Orders\", fontsize=12)\n",
    "plt.ylabel(\"Restaurant Name\", fontsize=12)\n",
    "plt.gca().invert_yaxis()  # Invert y-axis to display the highest at the top\n",
    "plt.grid(axis='x', linestyle=\"--\", alpha=0.7)\n",
    "plt.tight_layout()\n",
    "plt.show()"
   ]
  },
  {
   "cell_type": "code",
   "execution_count": null,
   "id": "61a32a80-60ec-4688-a5f4-3675e5e14e19",
   "metadata": {},
   "outputs": [],
   "source": [
    "# Plot the bottom 15 restaurants\n",
    "plt.figure(figsize=(12, 6))\n",
    "plt.barh(bottom_15[\"restaurant_name\"], bottom_15[\"order_count\"], color=\"salmon\", edgecolor=\"black\")\n",
    "plt.title(\"Bottom 15 Restaurants by Number of Orders\", fontsize=14)\n",
    "plt.xlabel(\"Number of Orders\", fontsize=12)\n",
    "plt.ylabel(\"Restaurant Name\", fontsize=12)\n",
    "plt.gca().invert_yaxis()  # Invert y-axis to display the highest at the top\n",
    "plt.grid(axis='x', linestyle=\"--\", alpha=0.7)\n",
    "plt.tight_layout()\n",
    "plt.show()"
   ]
  },
  {
   "cell_type": "code",
   "execution_count": null,
   "id": "67b0c200-f871-4a00-8946-740f96b3c819",
   "metadata": {},
   "outputs": [],
   "source": [
    "import matplotlib.pyplot as plt\n",
    "\n",
    "# Calculate the count of orders for each restaurant\n",
    "order_count = df['restaurant_name'].value_counts()\n",
    "\n",
    "# Limit to top N restaurants (e.g., top 10)\n",
    "top_n = 10\n",
    "order_count_top_n = order_count.head(top_n)\n",
    "\n",
    "# Plot the result as a bar chart\n",
    "plt.figure(figsize=(10, 6))\n",
    "order_count_top_n.plot(kind='bar', color='skyblue')\n",
    "\n",
    "# Add titles and labels\n",
    "plt.title(f'Top {top_n} Restaurants by Order Count')\n",
    "plt.xlabel('Restaurant Name')\n",
    "plt.ylabel('Order Count')\n",
    "\n",
    "# Rotate the x-axis labels for better readability\n",
    "plt.xticks(rotation=45, ha='right')\n",
    "\n",
    "# Display the plot\n",
    "plt.tight_layout()\n",
    "plt.show()\n"
   ]
  },
  {
   "cell_type": "code",
   "execution_count": null,
   "id": "4e7da937-0deb-46a9-856b-2965da8fd861",
   "metadata": {},
   "outputs": [],
   "source": [
    "# Calculate the count of orders for each restaurant\n",
    "order_count = df['restaurant_name'].value_counts()\n",
    "\n",
    "# Filter out restaurants with fewer than 5 orders (or set your own threshold)\n",
    "filtered_order_count = order_count[order_count >= 5]\n",
    "\n",
    "# Plot the result as a bar chart\n",
    "plt.figure(figsize=(10, 6))\n",
    "filtered_order_count.plot(kind='bar', color='skyblue')\n",
    "\n",
    "# Add titles and labels\n",
    "plt.title('Restaurants with 5 or more Orders')\n",
    "plt.xlabel('Restaurant Name')\n",
    "plt.ylabel('Order Count')\n",
    "\n",
    "# Rotate the x-axis labels for better readability\n",
    "plt.xticks(rotation=45, ha='right')\n",
    "\n",
    "# Display the plot\n",
    "plt.tight_layout()\n",
    "plt.show()\n"
   ]
  },
  {
   "cell_type": "code",
   "execution_count": null,
   "id": "e210e45d-8f59-4eee-822e-24507e6b584e",
   "metadata": {},
   "outputs": [],
   "source": [
    "# Group by restaurant_name and get aggregate statistics\n",
    "result = df.groupby('restaurant_name').agg(\n",
    "    order_count=('order_id', 'count'),  # Counting orders per restaurant\n",
    "    average_rating=('rating', 'mean'),  # Average rating\n",
    "    average_order_time=('total_order_time', 'mean')  # Average order time\n",
    ").reset_index()\n",
    "\n",
    "# Display result\n",
    "print(result.head())\n"
   ]
  },
  {
   "cell_type": "code",
   "execution_count": null,
   "id": "04d3abad-07c5-46c4-9d0b-f2f289f71d7b",
   "metadata": {},
   "outputs": [],
   "source": [
    "# Sort by order count and display the top 10 restaurants\n",
    "top_ordered_restaurants = result.sort_values('order_count', ascending=False).head(10)\n",
    "print(\"Top 10 Ordered Restaurants:\")\n",
    "print(top_ordered_restaurants)\n",
    "\n",
    "# Sort by rating and display the top 10 highest-rated restaurants\n",
    "top_rated_restaurants = result.sort_values('average_rating', ascending=False).head(10)\n",
    "print(\"Top 10 Rated Restaurants:\")\n",
    "print(top_rated_restaurants)\n"
   ]
  },
  {
   "cell_type": "code",
   "execution_count": null,
   "id": "8a398fe6-b4c4-42f0-9203-b32e1a0bbf57",
   "metadata": {},
   "outputs": [],
   "source": [
    "# Top 10 ordered restaurants\n",
    "plt.figure(figsize=(10, 6))\n",
    "sns.barplot(x='order_count', y='restaurant_name', data=top_ordered_restaurants)\n",
    "plt.title('Top 10 Ordered Restaurants')\n",
    "plt.xlabel('Order Count')\n",
    "plt.ylabel('Restaurant Name')\n",
    "plt.show()\n",
    "\n",
    "# Top 10 rated restaurants\n",
    "plt.figure(figsize=(10, 6))\n",
    "sns.barplot(x='average_rating', y='restaurant_name', data=top_rated_restaurants)\n",
    "plt.title('Top 10 Rated Restaurants')\n",
    "plt.xlabel('Average Rating')\n",
    "plt.ylabel('Restaurant Name')\n",
    "plt.show()\n"
   ]
  },
  {
   "cell_type": "code",
   "execution_count": null,
   "id": "1ed5346c-5af1-4c32-92e9-34341f1bcaf7",
   "metadata": {},
   "outputs": [],
   "source": [
    "# Top 10 Ordered Restaurants Plot\n",
    "top_ordered = result.nlargest(10, 'order_count')\n",
    "plt.figure(figsize=(10, 6))\n",
    "sns.barplot(x='order_count', y='restaurant_name', data=top_ordered, palette='viridis')\n",
    "plt.title('Top 10 Ordered Restaurants')\n",
    "plt.xlabel('Order Count')\n",
    "plt.ylabel('Restaurant Name')\n",
    "plt.show()\n",
    "\n",
    "# Top 10 Rated Restaurants Plot\n",
    "top_rated = result.nlargest(10, 'average_rating')\n",
    "plt.figure(figsize=(10, 6))\n",
    "sns.barplot(x='average_rating', y='restaurant_name', data=top_rated, palette='coolwarm')\n",
    "plt.title('Top 10 Rated Restaurants')\n",
    "plt.xlabel('Average Rating')\n",
    "plt.ylabel('Restaurant Name')\n",
    "plt.show()\n",
    "\n"
   ]
  },
  {
   "cell_type": "code",
   "execution_count": null,
   "id": "d0e29384-a2bc-4498-a747-ae45ad685754",
   "metadata": {
    "scrolled": true
   },
   "outputs": [],
   "source": [
    "def encourage_ratings(order):\n",
    "    if order['rating'] is None:\n",
    "        print(f\"Order {order['order_id']} - Encourage the customer to leave a rating by offering a discount on their next order.\")\n",
    "    else:\n",
    "        print(f\"Order {order['order_id']} - Rating received: {order['rating']}\")\n",
    "\n",
    "# Apply this function to each order\n",
    "for index, order in df.iterrows():\n",
    "    encourage_ratings(order)"
   ]
  },
  {
   "cell_type": "code",
   "execution_count": null,
   "id": "d3af56ce-9610-4d91-a261-289ab6714742",
   "metadata": {},
   "outputs": [],
   "source": [
    "def calculate_charges(order_value):\n",
    "    if 5 <= order_value < 15:\n",
    "        return order_value * 0.15\n",
    "    elif 15 <= order_value < 25:\n",
    "        return order_value * 0.20\n",
    "    elif order_value >= 25:\n",
    "        return order_value * 0.25\n",
    "    else:\n",
    "        return 0\n",
    "\n",
    "df['charges'] = df['cost_of_the_order'].apply(calculate_charges)\n"
   ]
  },
  {
   "cell_type": "code",
   "execution_count": null,
   "id": "d348257f-a40d-4b46-b602-eaf92ffa1c75",
   "metadata": {},
   "outputs": [],
   "source": [
    "df.head()"
   ]
  },
  {
   "cell_type": "markdown",
   "id": "7f5b4bfb-da07-45cf-8643-0b3ec54f910a",
   "metadata": {},
   "source": [
    "### Identifying Top 15 Restaurants with Minimal Order Times"
   ]
  },
  {
   "cell_type": "code",
   "execution_count": null,
   "id": "6082aeda-050e-4836-b383-c6603aa49219",
   "metadata": {},
   "outputs": [],
   "source": [
    "# Sort the dataset by total_order_time\n",
    "sorted_df = df.sort_values(by=\"total_order_time\")\n",
    "\n",
    "# Select the top 15 to 20 rows (in this case, it's just 5 rows for demonstration)\n",
    "top_restaurants = sorted_df.head(15)[[\"restaurant_name\", \"cuisine_type\", \"total_order_time\", \"rating\"]]\n",
    "\n",
    "top_restaurants"
   ]
  },
  {
   "cell_type": "code",
   "execution_count": null,
   "id": "c9316a95-36d0-4929-b0d2-a335158d3d07",
   "metadata": {},
   "outputs": [],
   "source": []
  },
  {
   "cell_type": "markdown",
   "id": "348cc722-d7d1-4cba-9869-7cb4fa1de6b0",
   "metadata": {},
   "source": [
    "### **Based on this data, here are some observations:**\n",
    "\n",
    "1. **Popular Cuisine Types**: Middle Eastern, American, and Chinese cuisines are frequently represented among the restaurants with lower total order times, suggesting efficiency in these categories.\n",
    "\n",
    "2. **Restaurant Efficiency**: Restaurants like \"RedFarm Broadway\" (Chinese) and \"Westville Hudson\" (American) exhibit the lowest `total_order_time` of 35 minutes, making them stand out for their speed.\n",
    "\n",
    "3. **Notable Repetitions**: Some restaurants, such as \"Blue Ribbon Sushi\" (Japanese), appear multiple times with consistent total order times, indicating reliability in their performance.\n",
    "\n",
    "4. **Range of Order Times**: The listed total order times range narrowly between 35 and 37 minutes, showing relatively consistent preparation and delivery efficiency across these restaurants.\n",
    "\n",
    "If you'd like, we could analyze this further—perhaps focusing on identifying any patterns in efficiency for a specific cuisine type or examining how these times correlate with ratings or other factors in your dataset!"
   ]
  },
  {
   "cell_type": "markdown",
   "id": "58cd294f-4fe1-4f37-9562-eeee07d48df0",
   "metadata": {},
   "source": [
    "### **Displaying the Restaurants with the Longest Total Order Times**"
   ]
  },
  {
   "cell_type": "code",
   "execution_count": null,
   "id": "5d7c2d73-f916-4deb-83dc-a636c19b2eb7",
   "metadata": {},
   "outputs": [],
   "source": [
    "# Sort the dataset by total_order_time in descending order\n",
    "sorted_df = df.sort_values(by=\"total_order_time\", ascending=False)\n",
    "\n",
    "# Select the last 15 restaurants and display the required columns\n",
    "last_restaurants = sorted_df.tail(15)[[\"restaurant_name\", \"cuisine_type\", \"total_order_time\", \"rating\"]]\n",
    "\n",
    "last_restaurants"
   ]
  },
  {
   "cell_type": "markdown",
   "id": "1ea6cc94-96c7-407d-b1b7-c66debfa6599",
   "metadata": {},
   "source": [
    "Here are some key observations based on the dataset provided:\n",
    "\n",
    "1. **High Ratings and Total Order Time**:\n",
    "   - Restaurants like \"Jack's Wife Freda,\" \"Vanessa's Dumplings,\" and \"Blue Ribbon Fried Chicken\" maintain a perfect rating of 5 even with a total order time of 37 minutes. This suggests that customers may prioritize food quality and satisfaction over time in some cases.\n",
    "\n",
    "2. **Efficiency Coupled with Quality**:\n",
    "   - \"Westville Hudson\" and \"RedFarm Broadway\" achieve a balance, with the shortest total order time of 35 minutes and perfect ratings of 5 for \"Westville Hudson\" and a slightly lower rating (3) for one entry of \"RedFarm Broadway.\"\n",
    "\n",
    "3. **Consistently High Performers**:\n",
    "   - Restaurants such as \"ilili Restaurant,\" \"Rubirosa,\" and \"Blue Ribbon Sushi\" consistently achieve a perfect rating of 5, indicating a strong customer preference, despite the total order time being 36 minutes.\n",
    "\n",
    "4. **Variation Among Same Restaurants**:\n",
    "   - A notable variation can be seen for \"Jack's Wife Freda,\" which has ratings of both 5 and 3 for the same total order time (37 minutes). This suggests differing customer experiences even with similar efficiency.\n",
    "\n",
    "5. **Cuisine Breakdown**:\n",
    "   - Several cuisine types appear repeatedly:\n",
    "     - **American**: Strong performers like \"Schnipper's Quality Kitchen\" and \"Westville Hudson.\"\n",
    "     - **Chinese**: \"RedFarm Broadway\" and \"Vanessa's Dumplings\" stand out with mixed ratings.\n",
    "     - **Middle Eastern**: \"ilili Restaurant\" and \"Cafe Mogador\" show differing ratings despite similar total order times.\n",
    "     - **Japanese**: \"Blue Ribbon Sushi\" has consistently good ratings (4 or 5).\n",
    "\n",
    "6. **Focus for Improvement**:\n",
    "   - Restaurants with lower ratings (e.g., \"Jack's Wife Freda\" with 3) might focus on enhancing the customer experience or food quality to match other high-rated competitors within the same total order time range.\n",
    "\n",
    "This mix of ratings and time efficiency offers a valuable perspective for understanding customer satisfaction and performance trends across these restaurants! Would you like to explore additional insights, such as correlations between ratings and cuisine type?"
   ]
  },
  {
   "cell_type": "markdown",
   "id": "8e2dd2de-5b7d-4d15-b524-25f9fcbf3b88",
   "metadata": {},
   "source": [
    "### **Top 5 Highest-Rated Restaurants with Total Order Times**"
   ]
  },
  {
   "cell_type": "code",
   "execution_count": null,
   "id": "98f70bbe-02e8-404f-8dd0-2ed84ebefe29",
   "metadata": {},
   "outputs": [],
   "source": [
    "# Sort the dataset by rating in descending order\n",
    "sorted_df = df.sort_values(by=\"rating\", ascending=False)\n",
    "\n",
    "# Select the top 5 restaurants with the highest ratings\n",
    "top_rated_restaurants = sorted_df.head(5)[[\"restaurant_name\", \"cuisine_type\", \"rating\", \"total_order_time\"]]\n",
    "\n",
    "top_rated_restaurants"
   ]
  },
  {
   "cell_type": "markdown",
   "id": "a3b38142-2572-495c-addc-071c0401ae51",
   "metadata": {},
   "source": [
    "Here are some observations based on the given data:\n",
    "\n",
    "1. **Perfect Ratings Across All Restaurants**: All listed restaurants have a perfect rating of 5, indicating exceptional customer satisfaction and quality of service.\n",
    "\n",
    "2. **Cuisine Diversity**: The top-rated restaurants feature a variety of cuisines:\n",
    "   - **Mediterranean**: \"Jack's Wife Freda\"\n",
    "   - **Mexican**: \"Cafe Habana\" and \"Chipotle Mexican Grill $1.99 Delivery\"\n",
    "   - **American**: \"The Smile\"\n",
    "   - **Japanese**: \"TAO\"\n",
    "\n",
    "   This showcases high performance across different culinary traditions.\n",
    "\n",
    "3. **Correlation Between Rating and Total Order Time**: \n",
    "   - Despite having perfect ratings, these restaurants exhibit varying `total_order_time` values, ranging from 42 minutes (\"TAO\") to 54 minutes (\"Jack's Wife Freda\"). \n",
    "   - This implies that customers may prioritize other factors, such as food quality and overall experience, over faster service.\n",
    "\n",
    "4. **Mexican Cuisine Dominance**: Two out of the five restaurants serve Mexican cuisine, highlighting its potential popularity or effectiveness in achieving customer satisfaction.\n",
    "\n",
    "5. **Potential for Improvement**: While all restaurants scored perfectly in ratings, reducing their total order times could further enhance their appeal and competitiveness.\n",
    "\n",
    "These insights could help pinpoint what drives high ratings across different cuisines and operational styles. Would you like further exploration, such as identifying patterns in customer preferences or operational efficiency?"
   ]
  },
  {
   "cell_type": "markdown",
   "id": "9be3ce76-1f1c-4393-9f28-d9838023f3c9",
   "metadata": {},
   "source": [
    "### Bottom 5 Least-Rated Restaurants Based on Customer Feedback"
   ]
  },
  {
   "cell_type": "code",
   "execution_count": null,
   "id": "7a74417c-aa42-45fd-8e85-f58ff9e8090d",
   "metadata": {},
   "outputs": [],
   "source": [
    "# Sort the dataset by rating in ascending order\n",
    "sorted_df = df.sort_values(by=\"rating\", ascending=True)\n",
    "\n",
    "# Select the last 5 restaurants with the lowest ratings\n",
    "least_rated_restaurants = sorted_df.head(5)[[\"restaurant_name\", \"cuisine_type\", \"rating\", \"total_order_time\"]]\n",
    "\n",
    "least_rated_restaurants"
   ]
  },
  {
   "cell_type": "markdown",
   "id": "09e44d2b-8b09-41fc-9189-0369b1dba033",
   "metadata": {},
   "source": [
    "Here are some observations based on the provided data of the least-rated restaurants:\n",
    "\n",
    "1. **Low Ratings Across All Restaurants**:\n",
    "   - All listed restaurants have a low rating of 3, which indicates room for improvement in terms of customer satisfaction or overall experience.\n",
    "\n",
    "2. **Cuisine Type Distribution**:\n",
    "   - The cuisines represented include:\n",
    "     - **Chinese**: \"RedFarm Broadway\"\n",
    "     - **American**: \"brgr\" and \"Shake Shack\"\n",
    "     - **Italian**: \"The Meatball Shop\"\n",
    "     - **Japanese**: \"Sushi of Gari 46\"\n",
    "   - American cuisine appears twice in the list, suggesting potential issues with consistency or customer expectations in this category.\n",
    "\n",
    "3. **High Total Order Times**:\n",
    "   - The total order times for these restaurants range from 48 minutes (\"Sushi of Gari 46\") to 63 minutes (\"RedFarm Broadway\"), with the longest being significantly higher than the shortest.\n",
    "   - High order times might contribute to customer dissatisfaction, potentially impacting the ratings.\n",
    "\n",
    "4. **Focus Areas for Improvement**:\n",
    "   - For \"RedFarm Broadway,\" both its low rating and the highest total order time (63 minutes) stand out, suggesting that reducing wait time could enhance customer satisfaction.\n",
    "   - Similarly, \"Shake Shack\" and \"The Meatball Shop\" might benefit from addressing both their operational efficiency and overall service quality.\n",
    "\n",
    "5. **Japanese Cuisine as an Outlier**:\n",
    "   - Despite typically being associated with high quality, \"Sushi of Gari 46\" has the lowest total order time (48 minutes) among the group but still received a low rating, possibly pointing to issues beyond service speed—such as taste or value.\n",
    "\n",
    "Improving operational aspects and analyzing customer feedback for these restaurants could lead to better ratings in the future. Let me know if you want to explore strategies for improvement or other insights!"
   ]
  },
  {
   "cell_type": "markdown",
   "id": "20aabe3e-61aa-4250-bfac-6a708548a989",
   "metadata": {},
   "source": [
    "### **Aggregate Information by Restaurant:**"
   ]
  },
  {
   "cell_type": "code",
   "execution_count": null,
   "id": "4bdcc423-bd83-4cdb-b29c-fca1f6c39d28",
   "metadata": {},
   "outputs": [],
   "source": [
    "\n",
    "# Calculate the count of orders for each restaurant\n",
    "order_count = df['restaurant_name'].value_counts()\n",
    "\n",
    "# Display the result\n",
    "order_count"
   ]
  },
  {
   "cell_type": "code",
   "execution_count": null,
   "id": "92397f2e-952e-4b98-bfc8-de075961d71a",
   "metadata": {},
   "outputs": [],
   "source": [
    "# Group by restaurant_name and get aggregate information\n",
    "result = df.groupby('restaurant_name').agg(\n",
    "    order_count=('order_id', 'count'),  # Assuming you want to count orders\n",
    "    cuisine_type=('cuisine_type', 'first'),  # Take the first cuisine type for each restaurant\n",
    "    rating=('rating', 'mean'),  # Calculate the average rating\n",
    "    total_order_time=('total_order_time', 'mean')  # Calculate the average total order time\n",
    ").reset_index()\n",
    "\n",
    "# Round the numerical columns to 1 decimal place\n",
    "result['rating'] = result['rating'].round(1)  # Round rating to 1 decimal place\n",
    "result['total_order_time'] = result['total_order_time'].round(1)  # Round total_order_time to 1 decimal place\n",
    "\n",
    "# Display the result\n",
    "result.head()\n"
   ]
  },
  {
   "cell_type": "code",
   "execution_count": null,
   "id": "9e2b14ab-77ee-45bd-bdc1-17b19f287430",
   "metadata": {},
   "outputs": [],
   "source": [
    "# Descriptive statistics for numerical columns\n",
    "df.describe()"
   ]
  },
  {
   "cell_type": "markdown",
   "id": "e60cd89a-006c-478c-b693-b8211d701b63",
   "metadata": {},
   "source": [
    "### **Restaurant-Based Recommendation:**"
   ]
  },
  {
   "cell_type": "code",
   "execution_count": null,
   "id": "99be4948-30d0-4d5d-bd58-d4f3da6afe96",
   "metadata": {},
   "outputs": [],
   "source": [
    "\n",
    "# Restaurant-based recommendation: Sort by rating first, then by total order time\n",
    "recommendations = df.sort_values(by=['rating', 'total_order_time'], ascending=[False, True])\n",
    "\n",
    "print(\"Restaurant-Based Recommendations:\")\n",
    "result = recommendations[['restaurant_name', 'rating', 'total_order_time']]\n",
    "result.head()"
   ]
  },
  {
   "cell_type": "markdown",
   "id": "141be80f-de8a-448d-a2c0-f28f61a0ce3d",
   "metadata": {},
   "source": [
    "### Dataset Explanation and Trend Analysis\n",
    "\n",
    "The dataset provided contains information about customer orders, including details about **restaurants**, **orders**, **food preparation time**, **delivery time**, **total order time**, and **customer ratings**. The dataset is rich with various performance metrics that help us understand the dynamics of food ordering.\n",
    "\n",
    "#### Key Columns in the Dataset:\n",
    "1. **Restaurant Name**: The name of the restaurant from which food is ordered.\n",
    "2. **Order Count**: The number of times a particular restaurant has been ordered from.\n",
    "3. **Cuisine Type**: The type of cuisine offered by the restaurant (e.g., American, Japanese, Italian).\n",
    "4. **Rating**: The average customer rating for the restaurant (on a scale of 1 to 5).\n",
    "5. **Total Order Time**: The total time (in minutes) taken to process the order, including both food preparation and delivery time.\n",
    "6. **Cost of the Order**: The total cost paid by the customer for the order.\n",
    "7. **Food Preparation Time**: The time taken by the restaurant to prepare the food.\n",
    "8. **Delivery Time**: The time taken for the food to be delivered to the customer.\n",
    "9. **Charges**: Additional charges related to the order (e.g., delivery fee, service charges).\n",
    "\n",
    "#### General Observations:\n",
    "- **Order Count and Popularity**: \n",
    "   - Restaurants such as **Blue Ribbon Sushi**, **Bareburger**, and **Shake Shack** have the highest order counts, indicating these are some of the most popular options in the dataset.\n",
    "   - Popular restaurants tend to attract many customers, which is often a sign of good customer retention and satisfaction.\n",
    "\n",
    "- **Cuisine Preferences**:\n",
    "   - The **American** cuisine category is the most frequently ordered, with several American restaurants such as **Bareburger**, **Shake Shack**, and **Five Guys Burgers and Fries** topping the list.\n",
    "   - **Japanese** cuisine also seems to be popular, with restaurants like **Blue Ribbon Sushi** and **Sushi of Gari** performing well in terms of ratings and order frequency.\n",
    "   - **Indian** and **Mexican** cuisines show a good balance of popularity and customer satisfaction, although **Mexican** restaurants tend to have a slightly lower average rating than other cuisines.\n",
    "\n",
    "- **Ratings Distribution**:\n",
    "   - Most restaurants have ratings close to 4, indicating that customers generally have positive experiences.\n",
    "   - However, a few restaurants, like **Sarabeth’s West**, **Hampton Chutney Co.**, and **Pepe Giallo**, have lower ratings, which suggests that they might have issues with customer satisfaction, which could be due to food quality, service, or other factors.\n",
    "   - Restaurants with higher ratings often show consistency in their order counts, as customers tend to favor those that have proven to offer quality and timely services.\n",
    "\n",
    "- **Delivery and Preparation Times**:\n",
    "   - The **total order time** varies widely across restaurants, with some restaurants, such as **Blue Ribbon Sushi Izakaya**, having longer total order times (e.g., 53.2 minutes), while others like **Amma** and **Sushi Choshi** maintain shorter times.\n",
    "   - Restaurants that manage quicker delivery times (under 50 minutes) tend to have higher customer satisfaction, as reflected in their ratings.\n",
    "   - **Food preparation time** and **delivery time** seem to correlate with overall customer satisfaction. Faster delivery and preparation times tend to align with higher ratings.\n",
    "\n",
    "- **Cost Insights**:\n",
    "   - The average order cost in the dataset is approximately **$16.76**, but there is variation in pricing across restaurants.\n",
    " \n",
    "   - Some restaurants, like Cipriani Le Specialita, have very high order costs (around $65.00), which indicates they might be offering premium or luxury services. Despite the high cost, they tend to maintain high ratings, suggesting that customers are satisfied with the value they are receiving.\n",
    "\n",
    "    - As for the charges, they typically range between **`$2 to $4`** in additional fees, which can include delivery charges, service fees, or other associated costs. These charges are generally lower compared to the base cost of the order but still contribute to the overall total.\n",
    "\n"
   ]
  },
  {
   "cell_type": "markdown",
   "id": "aef81ebc-65be-43ad-92a2-f351645fa846",
   "metadata": {},
   "source": [
    "### Restaurant-Based Recommendations\n",
    "\n",
    "Now that we have an understanding of the dataset trends, let's proceed to the **Restaurant-Based Recommendations**.\n",
    "\n",
    "#### Key Insights and Recommendations:\n",
    "Based on the analysis of order count, ratings, and total order time, we can offer the following restaurant-based recommendations:\n",
    "\n",
    "1. **Top Restaurants by Popularity**:\n",
    "   - **Blue Ribbon Sushi**: With a high number of orders (73) and consistent ratings (4.2), it is a top contender for a reliable dining option.\n",
    "   - **Bareburger**: A consistent performer with 17 orders and a moderate rating of 4.1, but it's still quite popular.\n",
    "   - **Shake Shack**: With 133 orders and a rating of 4.3, this American burger joint is a go-to option for many customers.\n",
    "\n",
    "2. **Restaurants with High Ratings**:\n",
    "   - **Amma** (Indian) and **Anjappar Chettinad** (Indian) stand out with perfect ratings (5.0) across multiple orders, making them prime recommendations for customers seeking quality.\n",
    "   - **Kori Restaurant and Bar** (Korean) also maintains a strong rating (5.0) despite having fewer orders, suggesting they might provide an outstanding experience.\n",
    "\n",
    "3. **Fast Delivery and Preparation**:\n",
    "   - Restaurants like **Ravagh Persian Grill** (Middle Eastern) offer excellent delivery times (67 minutes) and preparation times, which may make them ideal for customers looking for speed.\n",
    "   - **Grand Sichuan International** (Chinese) and **Taro Sushi** (Japanese) are also known for their quick service and consistent quality.\n",
    "\n",
    "4. **Cuisines with Balanced Performance**:\n",
    "   - **Mexican restaurants** such as **Cafe Habana** and **Dos Caminos** provide a balanced combination of popularity and customer satisfaction, offering both good ratings and reasonable order times.\n",
    "\n",
    "### Final Conclusion:\n",
    "\n",
    "In this project, we built a **Restaurant-Based Recommendation System** using available data to help customers discover high-quality restaurants based on order count, customer ratings, and total order time. \n",
    "\n",
    "The dataset provided valuable insights into restaurant performance, revealing trends such as the popularity of **American** and **Japanese** cuisines, customer satisfaction through high ratings, and the importance of **timely service**.\n",
    "\n",
    "Despite some challenges with implementing a **Customer-Based Recommendation System**, which faced technical issues with dynamic customer preferences, the **Restaurant-Based Recommendation System** provided a solid framework for suggesting top-performing restaurants. \n",
    "\n",
    "### Recommendations:\n",
    "- **For Customers**: Rely on the **restaurant-based recommendations** to discover top-rated and high-traffic restaurants for a great dining experience.\n",
    "- **For Restaurant Owners**: Focusing on maintaining high ratings, reducing delivery times, and ensuring a consistent quality of service is key to attracting repeat customers.\n",
    "- **For Future Work**: The customer-based recommendations could be further enhanced by implementing personalized filters and preferences, ensuring the system adapts dynamically to individual customer tastes.\n",
    "\n",
    "By refining both systems, the recommendation engine can offer a more personalized and comprehensive dining experience for all customers."
   ]
  }
 ],
 "metadata": {
  "kernelspec": {
   "display_name": "python_myenv",
   "language": "python",
   "name": "myenv"
  },
  "language_info": {
   "codemirror_mode": {
    "name": "ipython",
    "version": 3
   },
   "file_extension": ".py",
   "mimetype": "text/x-python",
   "name": "python",
   "nbconvert_exporter": "python",
   "pygments_lexer": "ipython3",
   "version": "3.12.9"
  }
 },
 "nbformat": 4,
 "nbformat_minor": 5
}
